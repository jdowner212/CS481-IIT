{
  "nbformat": 4,
  "nbformat_minor": 0,
  "metadata": {
    "kernelspec": {
      "display_name": "Python 3",
      "language": "python",
      "name": "python3"
    },
    "language_info": {
      "codemirror_mode": {
        "name": "ipython",
        "version": 3
      },
      "file_extension": ".py",
      "mimetype": "text/x-python",
      "name": "python",
      "nbconvert_exporter": "python",
      "pygments_lexer": "ipython3",
      "version": "3.7.0"
    },
    "toc": {
      "base_numbering": 1,
      "nav_menu": {},
      "number_sections": true,
      "sideBar": true,
      "skip_h1_title": false,
      "title_cell": "Table of Contents",
      "title_sidebar": "Contents",
      "toc_cell": false,
      "toc_position": {},
      "toc_section_display": true,
      "toc_window_display": false
    },
    "colab": {
      "name": "HW_1.ipynb",
      "provenance": []
    }
  },
  "cells": [
    {
      "cell_type": "markdown",
      "metadata": {
        "id": "s47gT0bmfwks"
      },
      "source": [
        "# Homework 1\n",
        "\n",
        "- Please study lec_03 and lec_04 for this homework.\n",
        "- There are two parts in the homework: \n",
        "    - first part: write code to print the answers you have provided in Quiz-2\n",
        "    - second part: explore wordnet\n",
        "- The **deadline** is: 2021.02.13 10:00pm\n"
      ]
    },
    {
      "cell_type": "code",
      "metadata": {
        "id": "gJRKzWyMfwky"
      },
      "source": [
        "# import packages\n",
        "import nltk\n",
        "from nltk.corpus import brown"
      ],
      "execution_count": 1,
      "outputs": []
    },
    {
      "cell_type": "markdown",
      "metadata": {
        "id": "nuAwEMRsfwkz"
      },
      "source": [
        "## Part 1: explore the basic statistics of the Brown corpora\n",
        "- Please refer to notes in lec 03: https://github.com/iit-cs481/main/blob/main/Lectures/Lec_03/Lec_03_Text%20corpora..ipynb"
      ]
    },
    {
      "cell_type": "markdown",
      "metadata": {
        "id": "a3tzwg8Zfwk0"
      },
      "source": [
        "### Quiz(2)-Q2: \n",
        "You have picked one category of the Brown corpus as provided in Quiz(2)-Q1, please print the total number of words for this category\n"
      ]
    },
    {
      "cell_type": "code",
      "metadata": {
        "id": "-zxbp7bffwk0"
      },
      "source": [
        ""
      ],
      "execution_count": null,
      "outputs": []
    },
    {
      "cell_type": "markdown",
      "metadata": {
        "id": "m2F4DTF7fwk0"
      },
      "source": [
        "### Quiz(2)-Q3: \n",
        "please build a vocabulary for this corpus and print the number of word types (i.e., the number of words in the vocabulary)\n",
        "    - note: the vocabulary should only contain words that are composed of alphabet letters (no punctuations), you can use the .isalpha() funtcion to check"
      ]
    },
    {
      "cell_type": "code",
      "metadata": {
        "id": "9X8l2wIMfwk0"
      },
      "source": [
        ""
      ],
      "execution_count": null,
      "outputs": []
    },
    {
      "cell_type": "markdown",
      "metadata": {
        "id": "LVwTFIvWfwk1"
      },
      "source": [
        "### Quiz(2)-Q4: \n",
        "please calculate the lexical diversity score\n"
      ]
    },
    {
      "cell_type": "code",
      "metadata": {
        "id": "CKCq_t4Cfwk1"
      },
      "source": [
        ""
      ],
      "execution_count": null,
      "outputs": []
    },
    {
      "cell_type": "markdown",
      "metadata": {
        "id": "vU6BWaNhfwk1"
      },
      "source": [
        "### Quiz(2)-Q5: \n",
        "please sort the words by frequency, print the 90th to 100th most frequently used words.\n",
        "    - e.g., word_list[90:100]\n"
      ]
    },
    {
      "cell_type": "code",
      "metadata": {
        "id": "UloxxdpLfwk1"
      },
      "source": [
        ""
      ],
      "execution_count": null,
      "outputs": []
    },
    {
      "cell_type": "markdown",
      "metadata": {
        "id": "1JdmLgCdfwk2"
      },
      "source": [
        "### Please print a table to show: (word, frequency, rank, frequency\\*rank) for your dataset\n",
        "    - Refer to the format in the 1st table of \"Zipf's law\""
      ]
    },
    {
      "cell_type": "code",
      "metadata": {
        "id": "0l3AryEsfwk2"
      },
      "source": [
        ""
      ],
      "execution_count": null,
      "outputs": []
    },
    {
      "cell_type": "markdown",
      "metadata": {
        "id": "NVPiUrpZfwk2"
      },
      "source": [
        "### Please plot the relationship between word rank and frequency:\n",
        "    - there should be two lines in the plot;\n",
        "    - one line is ploted as: x-axis: log(rank); y-axis: log(frequency);\n",
        "    - the other line is plotted as: x-axis: log(rank); y-axis: log(1/rank);\n",
        "    - Refer to the plot in lec 03 \"Relationship between word rank and frequency (Logarithmic)\"\n"
      ]
    },
    {
      "cell_type": "code",
      "metadata": {
        "id": "grgG2Zazfwk3"
      },
      "source": [
        ""
      ],
      "execution_count": null,
      "outputs": []
    },
    {
      "cell_type": "markdown",
      "metadata": {
        "id": "yt9BlJRFfwk3"
      },
      "source": [
        "## Part2: explore wordnet\n",
        "- Please refer to notes in lec_04: https://github.com/iit-cs481/main/blob/main/Lectures/Lec_04/Lec_04_Lexical%20resources.ipynb\n"
      ]
    },
    {
      "cell_type": "code",
      "metadata": {
        "id": "tPz50XTPfwk3"
      },
      "source": [
        "from nltk.corpus import wordnet as wn"
      ],
      "execution_count": 2,
      "outputs": []
    },
    {
      "cell_type": "markdown",
      "metadata": {
        "id": "9LdMIiqGfwk4"
      },
      "source": [
        "### Please print the synsets of 'dog'\n"
      ]
    },
    {
      "cell_type": "code",
      "metadata": {
        "id": "LJIJh8w5fwk4"
      },
      "source": [
        ""
      ],
      "execution_count": null,
      "outputs": []
    },
    {
      "cell_type": "markdown",
      "metadata": {
        "id": "be86GPP4fwk4"
      },
      "source": [
        "### Please print the definition of the first synset of 'dog'\n"
      ]
    },
    {
      "cell_type": "code",
      "metadata": {
        "id": "ezrEh1YYfwk4"
      },
      "source": [
        ""
      ],
      "execution_count": null,
      "outputs": []
    },
    {
      "cell_type": "markdown",
      "metadata": {
        "id": "WZLX1ajwfwk5"
      },
      "source": [
        "### Please print the example usage of the first synset\n"
      ]
    },
    {
      "cell_type": "code",
      "metadata": {
        "id": "3UlskvmIfwk5"
      },
      "source": [
        ""
      ],
      "execution_count": null,
      "outputs": []
    },
    {
      "cell_type": "markdown",
      "metadata": {
        "id": "gQUVQG23fwk5"
      },
      "source": [
        "### Please print the list of lemmas of the first synset\n"
      ]
    },
    {
      "cell_type": "code",
      "metadata": {
        "id": "Ac-kOojGfwk5"
      },
      "source": [
        ""
      ],
      "execution_count": null,
      "outputs": []
    },
    {
      "cell_type": "markdown",
      "metadata": {
        "id": "qBC-Gq2wfwk5"
      },
      "source": [
        "### Please print the synonyms of the word 'dog'\n",
        "    - print in the format of: synset, list of lemma names\n",
        "    - refer to the format in lec 04 \"Synonyms\""
      ]
    },
    {
      "cell_type": "code",
      "metadata": {
        "id": "DheBS0qxfwk6"
      },
      "source": [
        ""
      ],
      "execution_count": null,
      "outputs": []
    },
    {
      "cell_type": "markdown",
      "metadata": {
        "id": "t8vTAauwfwk6"
      },
      "source": [
        "### Please print the antonyms of the word 'dog'\n",
        "    - hint: iterate over each synset of 'dog' and get antonyms for each lemma in each synset\n",
        "    - refer to the format in lec 04 \"Antonyms\"\n",
        "    "
      ]
    },
    {
      "cell_type": "code",
      "metadata": {
        "id": "-6QPBhKYfwk6"
      },
      "source": [
        ""
      ],
      "execution_count": null,
      "outputs": []
    },
    {
      "cell_type": "markdown",
      "metadata": {
        "id": "pEttzD1ifwk6"
      },
      "source": [
        "### Please print the semantic similarity between 'dog' and 'cat'\n",
        "    - Please calculate similarity score using the following two functions\n",
        "        - path_similarity()\n",
        "        - wup_similarity()"
      ]
    },
    {
      "cell_type": "code",
      "metadata": {
        "id": "bqmmPoA2fwk7"
      },
      "source": [
        ""
      ],
      "execution_count": null,
      "outputs": []
    },
    {
      "cell_type": "code",
      "metadata": {
        "id": "G74ExrhDfwk7"
      },
      "source": [
        ""
      ],
      "execution_count": null,
      "outputs": []
    }
  ]
}