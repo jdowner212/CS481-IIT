{
  "nbformat": 4,
  "nbformat_minor": 0,
  "metadata": {
    "colab": {
      "name": "Project.ipynb",
      "provenance": [],
      "collapsed_sections": []
    },
    "kernelspec": {
      "name": "python3",
      "display_name": "Python 3"
    },
    "language_info": {
      "name": "python"
    }
  },
  "cells": [
    {
      "cell_type": "markdown",
      "metadata": {
        "id": "s8PPx3HHxsWJ"
      },
      "source": [
        "# Detecting Sarcasm in News Headlines\n",
        "### Jane Downer<br><br>\n",
        "\n",
        "\n",
        "\n",
        "---\n",
        "\n",
        "\n",
        "\n",
        "---\n",
        "\n",
        "\n",
        "\n",
        "<br>\n",
        "\n",
        "### This dataset comes from [Kaggle](https://www.kaggle.com/rmisra/news-headlines-dataset-for-sarcasm-detection). Each entry in the data includes a headline, each of which is pre-labeled as sarcastic (1) or not sarcastic (1). All of the sarcastic headlines come from The Onion, and all of the not-sarcastic headlines come from Huffington Post. There are a total of 28619 entries."
      ]
    },
    {
      "cell_type": "markdown",
      "metadata": {
        "id": "AZIIAmt6vPIt"
      },
      "source": [
        "## READ FIRST:\n",
        "\n",
        "1. My conclusions are included throughout the file rather than all at the end.\n",
        "2. ***Warning***: There is a cell in this code that took my computer 23 minutes to complete. I have flagged the cell. I also included the output returned by the cell, in case you want to just observe the output rather than actually run that particular piece of code."
      ]
    },
    {
      "cell_type": "code",
      "metadata": {
        "id": "84ULyEWPiZOL"
      },
      "source": [
        "%%capture\n",
        "import itertools\n",
        "import nltk\n",
        "nltk.download('punkt')\n",
        "nltk.download('stopwords')\n",
        "nltk.download('wordnet')\n",
        "nltk.download('averaged_perceptron_tagger')\n",
        "from nltk.corpus import stopwords, wordnet\n",
        "from nltk.tokenize import word_tokenize \n",
        "from nltk.stem import WordNetLemmatizer, SnowballStemmer\n",
        "import sklearn\n",
        "from sklearn.calibration import CalibratedClassifierCV\n",
        "from sklearn.feature_extraction.text import CountVectorizer, TfidfVectorizer\n",
        "from sklearn.linear_model import LogisticRegression\n",
        "from sklearn.metrics import auc, average_precision_score, classification_report, confusion_matrix, precision_recall_curve, roc_curve\n",
        "from sklearn.model_selection import cross_val_score, GridSearchCV, train_test_split\n",
        "from sklearn.naive_bayes import MultinomialNB\n",
        "from sklearn.pipeline import make_pipeline, Pipeline\n",
        "from sklearn.preprocessing import StandardScaler\n",
        "from sklearn.svm import LinearSVC\n",
        "import numpy as np\n",
        "import pandas as pd\n",
        "import matplotlib.pyplot as plt\n",
        "import re\n",
        "import string\n",
        "import tqdm\n",
        "from tqdm import tqdm\n",
        "import json\n",
        "from google.colab import files\n",
        "!pip install pipelinehelper\n",
        "import pipelinehelper\n",
        "from pipelinehelper import PipelineHelper\n"
      ],
      "execution_count": 2,
      "outputs": []
    },
    {
      "cell_type": "code",
      "metadata": {
        "colab": {
          "resources": {
            "http://localhost:8080/nbextensions/google.colab/files.js": {
              "data": "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",
              "ok": true,
              "headers": [
                [
                  "content-type",
                  "application/javascript"
                ]
              ],
              "status": 200,
              "status_text": ""
            }
          },
          "base_uri": "https://localhost:8080/",
          "height": 72
        },
        "id": "KOntV7o06LK0",
        "outputId": "5c7135a8-ff40-4450-f022-d89b37464080"
      },
      "source": [
        "uploaded = files.upload()"
      ],
      "execution_count": 3,
      "outputs": [
        {
          "output_type": "display_data",
          "data": {
            "text/html": [
              "\n",
              "     <input type=\"file\" id=\"files-de54d924-a113-4808-a739-00b8231aa8a7\" name=\"files[]\" multiple disabled\n",
              "        style=\"border:none\" />\n",
              "     <output id=\"result-de54d924-a113-4808-a739-00b8231aa8a7\">\n",
              "      Upload widget is only available when the cell has been executed in the\n",
              "      current browser session. Please rerun this cell to enable.\n",
              "      </output>\n",
              "      <script src=\"/nbextensions/google.colab/files.js\"></script> "
            ],
            "text/plain": [
              "<IPython.core.display.HTML object>"
            ]
          },
          "metadata": {
            "tags": []
          }
        },
        {
          "output_type": "stream",
          "text": [
            "Saving Sarcasm_Headlines_Dataset_v2.json to Sarcasm_Headlines_Dataset_v2.json\n"
          ],
          "name": "stdout"
        }
      ]
    },
    {
      "cell_type": "markdown",
      "metadata": {
        "id": "2ARxnYZPnL6o"
      },
      "source": [
        "# Data exploration"
      ]
    },
    {
      "cell_type": "markdown",
      "metadata": {
        "id": "M9UqzD5XgNih"
      },
      "source": [
        "## A first look"
      ]
    },
    {
      "cell_type": "code",
      "metadata": {
        "colab": {
          "base_uri": "https://localhost:8080/",
          "height": 202
        },
        "id": "KgL8aNO8iwKL",
        "outputId": "589042af-ad50-4d90-8d50-39233a9a1ceb"
      },
      "source": [
        "raw_data = pd.read_json('Sarcasm_Headlines_Dataset_v2.json', lines = True)\n",
        "raw_data['label'] = raw_data['is_sarcastic'].map({1:'sarcastic',0:'not sarcastic'})\n",
        "data = raw_data.drop(columns = ['article_link'])\n",
        "data.head()"
      ],
      "execution_count": 4,
      "outputs": [
        {
          "output_type": "execute_result",
          "data": {
            "text/html": [
              "<div>\n",
              "<style scoped>\n",
              "    .dataframe tbody tr th:only-of-type {\n",
              "        vertical-align: middle;\n",
              "    }\n",
              "\n",
              "    .dataframe tbody tr th {\n",
              "        vertical-align: top;\n",
              "    }\n",
              "\n",
              "    .dataframe thead th {\n",
              "        text-align: right;\n",
              "    }\n",
              "</style>\n",
              "<table border=\"1\" class=\"dataframe\">\n",
              "  <thead>\n",
              "    <tr style=\"text-align: right;\">\n",
              "      <th></th>\n",
              "      <th>is_sarcastic</th>\n",
              "      <th>headline</th>\n",
              "      <th>label</th>\n",
              "    </tr>\n",
              "  </thead>\n",
              "  <tbody>\n",
              "    <tr>\n",
              "      <th>0</th>\n",
              "      <td>1</td>\n",
              "      <td>thirtysomething scientists unveil doomsday clo...</td>\n",
              "      <td>sarcastic</td>\n",
              "    </tr>\n",
              "    <tr>\n",
              "      <th>1</th>\n",
              "      <td>0</td>\n",
              "      <td>dem rep. totally nails why congress is falling...</td>\n",
              "      <td>not sarcastic</td>\n",
              "    </tr>\n",
              "    <tr>\n",
              "      <th>2</th>\n",
              "      <td>0</td>\n",
              "      <td>eat your veggies: 9 deliciously different recipes</td>\n",
              "      <td>not sarcastic</td>\n",
              "    </tr>\n",
              "    <tr>\n",
              "      <th>3</th>\n",
              "      <td>1</td>\n",
              "      <td>inclement weather prevents liar from getting t...</td>\n",
              "      <td>sarcastic</td>\n",
              "    </tr>\n",
              "    <tr>\n",
              "      <th>4</th>\n",
              "      <td>1</td>\n",
              "      <td>mother comes pretty close to using word 'strea...</td>\n",
              "      <td>sarcastic</td>\n",
              "    </tr>\n",
              "  </tbody>\n",
              "</table>\n",
              "</div>"
            ],
            "text/plain": [
              "   is_sarcastic  ...          label\n",
              "0             1  ...      sarcastic\n",
              "1             0  ...  not sarcastic\n",
              "2             0  ...  not sarcastic\n",
              "3             1  ...      sarcastic\n",
              "4             1  ...      sarcastic\n",
              "\n",
              "[5 rows x 3 columns]"
            ]
          },
          "metadata": {
            "tags": []
          },
          "execution_count": 4
        }
      ]
    },
    {
      "cell_type": "markdown",
      "metadata": {
        "id": "R7-y6GpqgGw2"
      },
      "source": [
        "## Shape & Size"
      ]
    },
    {
      "cell_type": "code",
      "metadata": {
        "colab": {
          "base_uri": "https://localhost:8080/",
          "height": 1000
        },
        "id": "bsmxStZP7rE1",
        "outputId": "f68f9f12-1d96-4a40-e15a-3cb9bd99c2d0"
      },
      "source": [
        "print(\"\\n\\n------------------------------------\")\n",
        "print(\"------------- Null Data ------------\")\n",
        "print(\"------------------------------------\\n\")\n",
        "\n",
        "display(data.isnull().sum())\n",
        "\n",
        "print(\"\\n\\n------------------------------------\")\n",
        "print(\"------------ Data Shape ------------\")\n",
        "print(\"------------------------------------\\n\")\n",
        "display(data.shape)\n",
        "print(\"\\n\\n------------------------------------\")\n",
        "print(\"------ Distribution of labels ------\")\n",
        "print(\"------------------------------------\\n\")\n",
        "display(data.label.value_counts())\n",
        "\n",
        "print(\"\\n\\n------------------------------------\")\n",
        "print(\"-- Headline Lengths (#Characters) --\")\n",
        "print(\"------------------------------------\\n\")\n",
        "data['length'] = data['headline'].apply(len)\n",
        "display(data['length'].describe())\n",
        "print(\"\\n\\n\")\n",
        "\n",
        "###################################################\n",
        "\n",
        "d_sar = data[data['label']=='sarcastic']\n",
        "d_nsar = data[data['label']=='not sarcastic']\n",
        "\n",
        "plt.figure(figsize=(12,7))\n",
        "plt.hist(d_sar['length'], bins=50, alpha=0.5, label=\"sarcastic\", range=(0,150),density = True)\n",
        "plt.hist(d_nsar['length'], bins=50, alpha=0.5, label=\"not sarcastic\", range = (0,150), density = True)\n",
        "plt.xlabel(\"Number of Characters\")\n",
        "plt.ylabel('Frequency')\n",
        "plt.legend(loc='upper right')\n",
        "plt.title(\"Frequency of Headline Lengths: Sarcastic vs. Non-Saracastic\")\n",
        "plt.show()"
      ],
      "execution_count": 5,
      "outputs": [
        {
          "output_type": "stream",
          "text": [
            "\n",
            "\n",
            "------------------------------------\n",
            "------------- Null Data ------------\n",
            "------------------------------------\n",
            "\n"
          ],
          "name": "stdout"
        },
        {
          "output_type": "display_data",
          "data": {
            "text/plain": [
              "is_sarcastic    0\n",
              "headline        0\n",
              "label           0\n",
              "dtype: int64"
            ]
          },
          "metadata": {
            "tags": []
          }
        },
        {
          "output_type": "stream",
          "text": [
            "\n",
            "\n",
            "------------------------------------\n",
            "------------ Data Shape ------------\n",
            "------------------------------------\n",
            "\n"
          ],
          "name": "stdout"
        },
        {
          "output_type": "display_data",
          "data": {
            "text/plain": [
              "(28619, 3)"
            ]
          },
          "metadata": {
            "tags": []
          }
        },
        {
          "output_type": "stream",
          "text": [
            "\n",
            "\n",
            "------------------------------------\n",
            "------ Distribution of labels ------\n",
            "------------------------------------\n",
            "\n"
          ],
          "name": "stdout"
        },
        {
          "output_type": "display_data",
          "data": {
            "text/plain": [
              "not sarcastic    14985\n",
              "sarcastic        13634\n",
              "Name: label, dtype: int64"
            ]
          },
          "metadata": {
            "tags": []
          }
        },
        {
          "output_type": "stream",
          "text": [
            "\n",
            "\n",
            "------------------------------------\n",
            "-- Headline Lengths (#Characters) --\n",
            "------------------------------------\n",
            "\n"
          ],
          "name": "stdout"
        },
        {
          "output_type": "display_data",
          "data": {
            "text/plain": [
              "count    28619.000000\n",
              "mean        62.308571\n",
              "std         20.726483\n",
              "min          7.000000\n",
              "25%         49.000000\n",
              "50%         62.000000\n",
              "75%         75.000000\n",
              "max        926.000000\n",
              "Name: length, dtype: float64"
            ]
          },
          "metadata": {
            "tags": []
          }
        },
        {
          "output_type": "stream",
          "text": [
            "\n",
            "\n",
            "\n"
          ],
          "name": "stdout"
        },
        {
          "output_type": "display_data",
          "data": {
            "image/png": "[encoded data removed]",
            "text/plain": [
              "<Figure size 864x504 with 1 Axes>"
            ]
          },
          "metadata": {
            "tags": [],
            "needs_background": "light"
          }
        }
      ]
    },
    {
      "cell_type": "markdown",
      "metadata": {
        "id": "WgZDDRC5l9E9"
      },
      "source": [
        "### The data is somewhat evenly split between 'sarcastic' and 'non-sarcastic' headlines. The sarcastic headlines have lengths that are more spread out than the non-sarcastic headlines, and are more inclined than non-sarcastic headlines to have a large number of characters. The non-sarcastic headlines are more concentrated around a central value."
      ]
    },
    {
      "cell_type": "markdown",
      "metadata": {
        "id": "jHbFMZCnnPrb"
      },
      "source": [
        "# Pre-Processing"
      ]
    },
    {
      "cell_type": "markdown",
      "metadata": {
        "id": "RcWchJzFGg7Z"
      },
      "source": [
        "# Steps:\n",
        "### 1.   Replace contracted words\n",
        "### 2.   Remove non-alphabetic characters\n",
        "### 3.   Basic tokenization\n",
        "### 4.   Remove stopwords\n",
        "### 5.   Lemmatization & Stemming\n",
        "\n",
        "\n"
      ]
    },
    {
      "cell_type": "code",
      "metadata": {
        "colab": {
          "base_uri": "https://localhost:8080/"
        },
        "id": "HN9t0Mxl_kiO",
        "outputId": "b6a30cea-1378-40b4-82e8-db8d490662ed"
      },
      "source": [
        "# replace contracted words\n",
        "def decontracted(phrase):\n",
        "    regex_dict = {\"won't\": \"will not\",  \"n\\'t\": \" not\",  \"\\'m\": \" am\",    \"\\'d\": \" would\", \"[ ]\\'s\": \" s\",\n",
        "                  \"can\\'t\": \"can not\",   \"\\'re\": \" are\",  \"\\'t\": \" not\",  \"\\'ll\": \" will\",    \"\\'ve\": \" have\",\n",
        "                  \"[a-zA-Z]\\'s\": \" is\", \"-(?:(?<!\\b[0-9]{4}-)|(?![0-9]{2}(?:[0-9]{2})?\\b))\": ' '}\n",
        "    regex = re.compile(\"(%s)\" % \"|\".join(map(re.escape, regex_dict.keys())))\n",
        "    return regex.sub(lambda s: regex_dict[s.string[s.start():s.end()]], phrase) \n",
        "# remove non-alphabetic characters\n",
        "def only_alpha(phrase):\n",
        "  phrase = re.sub(\"[^a-zA-Z ]\",\"\", phrase)\n",
        "  return phrase\n",
        "# remove punctuation\n",
        "def remove_punc(phrase):\n",
        "  phrase = phrase.translate(str.maketrans('', '', string.punctuation))\n",
        "  return phrase\n",
        "####################################################################\n",
        "# combine above functions\n",
        "def clean_text(df):\n",
        "  cleaned_headline = []\n",
        "  for h in df['headline']:\n",
        "    h = remove_punc(only_alpha(decontracted(h))) # expand contracted words\n",
        "    cleaned_headline.append(h)\n",
        "  return cleaned_headline\n",
        "####################################################################\n",
        "en_stopwords = set(stopwords.words('english'))\n",
        "lemmatizer = WordNetLemmatizer()\n",
        "stemmer = SnowballStemmer(language='english')\n",
        "\n",
        "# Original\n",
        "original = [headline for headline in data['headline']]\n",
        "# Cleaned\n",
        "cleaned = clean_text(data)\n",
        "# Basic Tokenization\n",
        "basic_tok = [word_tokenize(headline) for headline in cleaned]   \n",
        "# Stopword Removal                        \n",
        "no_stop = [[word for word in entry if not word.lower() in en_stopwords] for entry in basic_tok]  \n",
        "# Lemmatization\n",
        "lemmatized = [[lemmatizer.lemmatize(word) for word in entry] for entry in no_stop]  \n",
        "# Stemming              \n",
        "stemmed = [[stemmer.stem(word) for word in entry] for entry in lemmatized]    \n",
        "\n",
        "print('\\\"' + original[24] + '\\\"','                         << original')\n",
        "print('\\\"' + cleaned[24] + '\\\"','                            << cleaned')\n",
        "print(basic_tok[24], \"  << tokenization\")\n",
        "print(no_stop[24], \"               << no stopwords\")\n",
        "print(lemmatized[24], \"                 << no stopwords + lemmatization\")\n",
        "print(stemmed[24], \"                      << no + lemmatization + stemming\")"
      ],
      "execution_count": 6,
      "outputs": [
        {
          "output_type": "stream",
          "text": [
            "\"bill clinton shoots down republicans: 'i strongly supported' obamacare\"                          << original\n",
            "\"bill clinton shoots down republicans i strongly supported obamacare\"                             << cleaned\n",
            "['bill', 'clinton', 'shoots', 'down', 'republicans', 'i', 'strongly', 'supported', 'obamacare']   << tokenization\n",
            "['bill', 'clinton', 'shoots', 'republicans', 'strongly', 'supported', 'obamacare']                << no stopwords\n",
            "['bill', 'clinton', 'shoot', 'republican', 'strongly', 'supported', 'obamacare']                  << no stopwords + lemmatization\n",
            "['bill', 'clinton', 'shoot', 'republican', 'strong', 'support', 'obamacar']                       << no + lemmatization + stemming\n"
          ],
          "name": "stdout"
        }
      ]
    },
    {
      "cell_type": "markdown",
      "metadata": {
        "id": "tx21IzTGz83z"
      },
      "source": [
        "## Let's pause to observe the distribution of tokens/words in our dataset."
      ]
    },
    {
      "cell_type": "markdown",
      "metadata": {
        "id": "h9FkUrx3T6v7"
      },
      "source": [
        "### i. Lexical Diversity"
      ]
    },
    {
      "cell_type": "code",
      "metadata": {
        "colab": {
          "base_uri": "https://localhost:8080/",
          "height": 160
        },
        "id": "CDLojBQtT_R4",
        "outputId": "952959a7-a7d9-44b9-eb8b-04bc7f8637ab"
      },
      "source": [
        "def create_text(tokens):\n",
        "  text = []\n",
        "  for entry in tokens:\n",
        "    for word in entry:\n",
        "      text.append(word)\n",
        "  return(text)\n",
        "\n",
        "def getData_and_plot(txt, df):\n",
        "  vocabulary = sorted(set([word.lower() for word in txt]))\n",
        "  n_tokens, n_sents, n_types = len(txt), len(df), len(vocabulary)\n",
        "  lexical_diversity = n_types/n_tokens\n",
        "  data_info = []\n",
        "  data_info.append({'tokens': n_tokens, 'vocab': n_types,'lexical diversity':\"%.3f\" % lexical_diversity, 'average sentence length': \"%.3f\" % (n_tokens/n_sents), 'average word frequency': \"%.3f\" % (n_tokens/n_types)})  \n",
        "  display(pd.DataFrame(data_info))\n",
        "\n",
        "text1 = create_text(basic_tok)\n",
        "text2 = create_text(stemmed)\n",
        "\n",
        "getData_and_plot(text1, data)\n",
        "print('')\n",
        "getData_and_plot(text2, data)"
      ],
      "execution_count": 7,
      "outputs": [
        {
          "output_type": "display_data",
          "data": {
            "text/html": [
              "<div>\n",
              "<style scoped>\n",
              "    .dataframe tbody tr th:only-of-type {\n",
              "        vertical-align: middle;\n",
              "    }\n",
              "\n",
              "    .dataframe tbody tr th {\n",
              "        vertical-align: top;\n",
              "    }\n",
              "\n",
              "    .dataframe thead th {\n",
              "        text-align: right;\n",
              "    }\n",
              "</style>\n",
              "<table border=\"1\" class=\"dataframe\">\n",
              "  <thead>\n",
              "    <tr style=\"text-align: right;\">\n",
              "      <th></th>\n",
              "      <th>tokens</th>\n",
              "      <th>vocab</th>\n",
              "      <th>lexical diversity</th>\n",
              "      <th>average sentence length</th>\n",
              "      <th>average word frequency</th>\n",
              "    </tr>\n",
              "  </thead>\n",
              "  <tbody>\n",
              "    <tr>\n",
              "      <th>0</th>\n",
              "      <td>285296</td>\n",
              "      <td>29054</td>\n",
              "      <td>0.102</td>\n",
              "      <td>9.969</td>\n",
              "      <td>9.820</td>\n",
              "    </tr>\n",
              "  </tbody>\n",
              "</table>\n",
              "</div>"
            ],
            "text/plain": [
              "   tokens  vocab  ... average sentence length average word frequency\n",
              "0  285296  29054  ...                   9.969                  9.820\n",
              "\n",
              "[1 rows x 5 columns]"
            ]
          },
          "metadata": {
            "tags": []
          }
        },
        {
          "output_type": "stream",
          "text": [
            "\n"
          ],
          "name": "stdout"
        },
        {
          "output_type": "display_data",
          "data": {
            "text/html": [
              "<div>\n",
              "<style scoped>\n",
              "    .dataframe tbody tr th:only-of-type {\n",
              "        vertical-align: middle;\n",
              "    }\n",
              "\n",
              "    .dataframe tbody tr th {\n",
              "        vertical-align: top;\n",
              "    }\n",
              "\n",
              "    .dataframe thead th {\n",
              "        text-align: right;\n",
              "    }\n",
              "</style>\n",
              "<table border=\"1\" class=\"dataframe\">\n",
              "  <thead>\n",
              "    <tr style=\"text-align: right;\">\n",
              "      <th></th>\n",
              "      <th>tokens</th>\n",
              "      <th>vocab</th>\n",
              "      <th>lexical diversity</th>\n",
              "      <th>average sentence length</th>\n",
              "      <th>average word frequency</th>\n",
              "    </tr>\n",
              "  </thead>\n",
              "  <tbody>\n",
              "    <tr>\n",
              "      <th>0</th>\n",
              "      <td>203247</td>\n",
              "      <td>19769</td>\n",
              "      <td>0.097</td>\n",
              "      <td>7.102</td>\n",
              "      <td>10.281</td>\n",
              "    </tr>\n",
              "  </tbody>\n",
              "</table>\n",
              "</div>"
            ],
            "text/plain": [
              "   tokens  vocab  ... average sentence length average word frequency\n",
              "0  203247  19769  ...                   7.102                 10.281\n",
              "\n",
              "[1 rows x 5 columns]"
            ]
          },
          "metadata": {
            "tags": []
          }
        }
      ]
    },
    {
      "cell_type": "markdown",
      "metadata": {
        "id": "VRw_kR8fndgk"
      },
      "source": [
        "### ii. Zipf's Law holds up (mostly)"
      ]
    },
    {
      "cell_type": "code",
      "metadata": {
        "colab": {
          "base_uri": "https://localhost:8080/",
          "height": 573
        },
        "id": "Z04CXIVhgBhS",
        "outputId": "a9508dee-376d-48cd-b121-1ffd7f926235"
      },
      "source": [
        "#########################################################\n",
        "def flatten(lst_of_lsts):\n",
        "  items = []\n",
        "  for lst in lst_of_lsts:\n",
        "    for thing in lst:\n",
        "      items.append(thing)\n",
        "  return items\n",
        "#########################################################\n",
        "def display_freq_words(which_tokens, topn):\n",
        "    allWds = flatten(which_tokens)\n",
        "    wdFreq = nltk.FreqDist(w.lower() for w in allWds)\n",
        "    wdFreq_sorted = sorted(wdFreq.items(),key=lambda item: item[1], reverse=True)\n",
        "    wfreq_topn = wdFreq_sorted[:topn] \n",
        "    df_topn = pd.DataFrame({'word':      [w for w, f in wfreq_topn],\n",
        "                            'frequency': [f for w, f in wfreq_topn],\n",
        "                            'rank':      range(1,len(wfreq_topn)+1) })\n",
        "    df_topn['frequency*rank'] = df_topn['frequency']*df_topn['rank']\n",
        "    return df_topn\n",
        "#########################################################\n",
        "text = stemmed\n",
        "df_topn = display_freq_words(text, -1)\n",
        "x = df_topn['rank'].values\n",
        "[y1, y2] = [df_topn['frequency'].values, [1/v for v in df_topn['rank'].values]]\n",
        "\n",
        "for [x_data, y_data] in ([x, [y1, y2]],\n",
        "                         [np.log10(x), [np.log10(y1), np.log10(y2)]]):\n",
        "  plt.figsize=(20,10)\n",
        "  plt.plot(x_data, y_data[0], 'o', label='(rank, freq)',alpha=0.5)\n",
        "  plt.plot(x_data, y_data[1], 'o', label='(rank, 1/rank)',alpha=0.5)\n",
        "  plt.xlabel('rank')\n",
        "  plt.ylabel('frequency / (1/rank)')\n",
        "  plt.title(\"Relationship between word rank and frequency\")\n",
        "  plt.legend()\n",
        "  plt.show()"
      ],
      "execution_count": 8,
      "outputs": [
        {
          "output_type": "display_data",
          "data": {
            "image/png": "[encoded data removed]",
            "text/plain": [
              "<Figure size 432x288 with 1 Axes>"
            ]
          },
          "metadata": {
            "tags": [],
            "needs_background": "light"
          }
        },
        {
          "output_type": "display_data",
          "data": {
            "image/png": "[encoded data removed]",
            "text/plain": [
              "<Figure size 432x288 with 1 Axes>"
            ]
          },
          "metadata": {
            "tags": [],
            "needs_background": "light"
          }
        }
      ]
    },
    {
      "cell_type": "markdown",
      "metadata": {
        "id": "bEi1WrXjmVI7"
      },
      "source": [
        "### Zipf's Law seems to mostly hold up with this data. The logarithmic plot of rank versus frequency shows some slight curvature, although this only appeared after heavy pre-processing."
      ]
    },
    {
      "cell_type": "markdown",
      "metadata": {
        "id": "Ru1bvXDmsy0k"
      },
      "source": [
        "### iii. Most frequent words"
      ]
    },
    {
      "cell_type": "code",
      "metadata": {
        "colab": {
          "base_uri": "https://localhost:8080/"
        },
        "id": "sPUE3xpX0Sr7",
        "outputId": "2195d167-85af-454f-8fab-988e4a6a6f07"
      },
      "source": [
        "[t1,t2] = [[t for t in toks] for toks in [basic_tok, stemmed]]\n",
        "l1,l2 = [len(np.unique(flatten(toks))) for toks in [t1,t2]]\n",
        "\n",
        "input =[['all tokens', t1, l1],\n",
        "        ['no stopwords + lemmatized + stemmed', t2, l2]]\n",
        "\n",
        "for [name, list_, length] in input:\n",
        "  print('Top 10 words in vocabulary (' + name + '):\\n')\n",
        "  print(display_freq_words(list_, 10))\n",
        "  print('\\nNumber of unique tokens:',length,'\\n\\n\\n')"
      ],
      "execution_count": 9,
      "outputs": [
        {
          "output_type": "stream",
          "text": [
            "Top 10 words in vocabulary (all tokens):\n",
            "\n",
            "   word  frequency  rank  frequency*rank\n",
            "0    to       9052     1            9052\n",
            "1    of       6263     2           12526\n",
            "2   the       5294     3           15882\n",
            "3    in       4540     4           18160\n",
            "4   for       3625     5           18125\n",
            "5     a       3109     6           18654\n",
            "6    on       2627     7           18389\n",
            "7   and       1982     8           15856\n",
            "8   not       1972     9           17748\n",
            "9  with       1955    10           19550\n",
            "\n",
            "Number of unique tokens: 29054 \n",
            "\n",
            "\n",
            "\n",
            "Top 10 words in vocabulary (no stopwords + lemmatized + stemmed):\n",
            "\n",
            "     word  frequency  rank  frequency*rank\n",
            "0   trump       1786     1            1786\n",
            "1     new       1677     2            3354\n",
            "2     man       1515     3            4545\n",
            "3   woman        959     4            3836\n",
            "4     get        848     5            4240\n",
            "5  report        819     6            4914\n",
            "6     say        748     7            5236\n",
            "7    make        658     8            5264\n",
            "8       u        605     9            5445\n",
            "9     day        587    10            5870\n",
            "\n",
            "Number of unique tokens: 19769 \n",
            "\n",
            "\n",
            "\n"
          ],
          "name": "stdout"
        }
      ]
    },
    {
      "cell_type": "markdown",
      "metadata": {
        "id": "PhNaHbUJmg0J"
      },
      "source": [
        "### Before pre-processing, the most frequent words in the dataset were stopwords. The second list is more reflective of the topics covered in the headlines."
      ]
    },
    {
      "cell_type": "markdown",
      "metadata": {
        "id": "WEFX0_l62PGg"
      },
      "source": [
        "# Vectorization & Classification<br>\n",
        "### (example: TfidfVectorizer, Logistic Regression)"
      ]
    },
    {
      "cell_type": "code",
      "metadata": {
        "colab": {
          "base_uri": "https://localhost:8080/"
        },
        "id": "m3Yl-kw5fwzf",
        "outputId": "4ac32e08-ea3b-4ca6-bce4-88dadcdcbdc3"
      },
      "source": [
        "from nltk.util import ngrams\n",
        "\n",
        "headlines = [' '.join(headline) for headline in text]\n",
        "corpus1 = ' '.join(headlines)\n",
        "\n",
        "vectorizer1 = CountVectorizer()\n",
        "vectorizer2 = TfidfVectorizer(norm='l2', use_idf=True, smooth_idf=True, sublinear_tf=False, ngram_range = (1,2))\n",
        "\n",
        "X1 = vectorizer1.fit_transform(headlines) # Learn the vocabulary dictionary and return document-term matrix\n",
        "X2 = vectorizer2.fit_transform(headlines)\n",
        "print(X1.toarray())\n",
        "\n",
        "token = nltk.word_tokenize(corpus1)\n",
        "unigrams = ngrams(token,1)\n",
        "bigrams = ngrams(token,2)\n",
        "fdist_uni = nltk.FreqDist(unigrams)\n",
        "fdist_bi = nltk.FreqDist(bigrams)\n",
        "\n",
        "\n",
        "sorted_uni = sorted((fdist_uni).items(),key=lambda item: item[1], reverse=True)\n",
        "sorted_bi = sorted((fdist_bi).items(),key=lambda item: item[1], reverse=True)\n",
        "\n",
        "print('\\nFeature names: ' + str(list(fdist_uni.keys())[:10]))       # Array mapping from feature integer indices to feature name\n",
        "print('Top features: ' + (str(sorted_uni))[0:92] + ' ...}\\n\\n')  # A mapping from terms to feature indices\n",
        "print('\\nFeature names: ' + str(list(fdist_bi.keys())[:10]))       # Array mapping from feature integer indices to feature name\n",
        "print('Top features:' + (str(sorted_bi))[0:98] + ' ...}')  # A mapping from terms to feature indices"
      ],
      "execution_count": 10,
      "outputs": [
        {
          "output_type": "stream",
          "text": [
            "[[0 0 0 ... 0 0 0]\n",
            " [0 0 0 ... 0 0 0]\n",
            " [0 0 0 ... 0 0 0]\n",
            " ...\n",
            " [0 0 0 ... 0 0 0]\n",
            " [0 0 0 ... 0 0 0]\n",
            " [0 0 0 ... 0 0 0]]\n",
            "\n",
            "Feature names: [('thirtysometh',), ('scientist',), ('unveil',), ('doomsday',), ('clock',), ('hair',), ('loss',), ('dem',), ('rep',), ('total',)]\n",
            "Top features: [(('trump',), 1786), (('new',), 1677), (('man',), 1515), (('woman',), 959), (('get',), 848), ...}\n",
            "\n",
            "\n",
            "\n",
            "Feature names: [('thirtysometh', 'scientist'), ('scientist', 'unveil'), ('unveil', 'doomsday'), ('doomsday', 'clock'), ('clock', 'hair'), ('hair', 'loss'), ('loss', 'dem'), ('dem', 'rep'), ('rep', 'total'), ('total', 'nail')]\n",
            "Top features:[(('donald', 'trump'), 460), (('area', 'man'), 263), (('white', 'hous'), 212), (('hillari', 'clint ...}\n"
          ],
          "name": "stdout"
        }
      ]
    },
    {
      "cell_type": "markdown",
      "metadata": {
        "id": "iltJbcWImvtl"
      },
      "source": [
        "### A few of the most frequent unigrams appear in the list of most frequent bigrams, such as with \"donald trump\" and \"area man\". The bigrams give a bit more context to the topics being discussed."
      ]
    },
    {
      "cell_type": "markdown",
      "metadata": {
        "id": "E4NAcLnv-kan"
      },
      "source": [
        "## Run Classifier (example: Logistic Regression)"
      ]
    },
    {
      "cell_type": "code",
      "metadata": {
        "colab": {
          "base_uri": "https://localhost:8080/"
        },
        "id": "-99azXXs-SR7",
        "outputId": "90590238-99f7-4ae2-a76a-0d188c531952"
      },
      "source": [
        "def run_classifier(vectorizer, clf, headlines, y):\n",
        "  X = vectorizer.fit_transform(headlines)\n",
        "  # train-test split:\n",
        "  trn_i, tst_i = train_test_split(np.arange(data.shape[0]), test_size=0.2, shuffle=True, random_state=42)\n",
        "  data_train, data_test = data.iloc[trn_i], data.iloc[tst_i]\n",
        "  X_trn, y_trn, X_tst, y_tst = X[trn_i], y[trn_i], X[tst_i], y[tst_i]\n",
        "  clf.fit(X_trn, y_trn)\n",
        "  # make prediction on testing data\n",
        "  y_pred_test = clf.predict(X_tst)\n",
        "  y_predprob_test = clf.predict_proba(X_tst)\n",
        "  return [clf, X_trn, y_trn, X_tst, y_tst, y_pred_test, y_predprob_test, data_train, data_test]\n",
        "\n",
        "v1 = TfidfVectorizer(norm='l2', use_idf=True, smooth_idf=True, sublinear_tf=False)\n",
        "c1 = LogisticRegression(max_iter = 1000)\n",
        "y_ = data.is_sarcastic.values\n",
        "headlines1 = headlines\n",
        "results1 = run_classifier (v1, c1, headlines1, y_)\n",
        "print(classification_report(results1[4],results1[5]))"
      ],
      "execution_count": 11,
      "outputs": [
        {
          "output_type": "stream",
          "text": [
            "              precision    recall  f1-score   support\n",
            "\n",
            "           0       0.78      0.82      0.80      2995\n",
            "           1       0.79      0.75      0.77      2729\n",
            "\n",
            "    accuracy                           0.79      5724\n",
            "   macro avg       0.79      0.78      0.79      5724\n",
            "weighted avg       0.79      0.79      0.79      5724\n",
            "\n"
          ],
          "name": "stdout"
        }
      ]
    },
    {
      "cell_type": "markdown",
      "metadata": {
        "id": "5js0RoksnDtm"
      },
      "source": [
        "### Accuracy comes out at about 79%, which is ok. Let's use cross-validation to assess whether this can be consistently expected."
      ]
    },
    {
      "cell_type": "markdown",
      "metadata": {
        "id": "p8s6lxAp_wF2"
      },
      "source": [
        "## Cross-validation"
      ]
    },
    {
      "cell_type": "code",
      "metadata": {
        "colab": {
          "base_uri": "https://localhost:8080/"
        },
        "id": "344nmTwU-9Um",
        "outputId": "5ae219ad-ef2c-421f-f15f-1373376cda0f"
      },
      "source": [
        "scores = cross_val_score(c1, v1.fit_transform(headlines1), y_, cv=5, scoring='accuracy')\n",
        "print(scores)"
      ],
      "execution_count": 12,
      "outputs": [
        {
          "output_type": "stream",
          "text": [
            "[0.78144654 0.78336827 0.79105521 0.78983229 0.78927136]\n"
          ],
          "name": "stdout"
        }
      ]
    },
    {
      "cell_type": "markdown",
      "metadata": {
        "id": "zUtHmfIonPe-"
      },
      "source": [
        "### Cross-validation produces accuracy scores that consistently fall between about 78% and 79%."
      ]
    },
    {
      "cell_type": "markdown",
      "metadata": {
        "id": "ZjBbO7n6_x9m"
      },
      "source": [
        "## ROC Curve"
      ]
    },
    {
      "cell_type": "code",
      "metadata": {
        "colab": {
          "base_uri": "https://localhost:8080/",
          "height": 294
        },
        "id": "XNZgOZA7_seg",
        "outputId": "8ecac7c5-ea53-452d-9886-14edf4f7b84e"
      },
      "source": [
        "def plot_roc (results):\n",
        "  y_t, y_s = results[4], results[6][:,1]\n",
        "  fpr, tpr, thresholds = roc_curve(y_true = y_t, y_score = y_s, pos_label=1)\n",
        "  roc_auc = auc(fpr, tpr)\n",
        "  plt.figure()\n",
        "  lw = 2\n",
        "  plt.plot(fpr, tpr, color='darkorange', lw=lw, label='ROC curve (area = %0.2f)' % roc_auc)\n",
        "  plt.plot([0, 1], [0, 1], color='navy', lw=lw, linestyle='--')\n",
        "  plt.xlim([0.0, 1.0])\n",
        "  plt.ylim([0.0, 1.05])\n",
        "  plt.xlabel('False Positive Rate')\n",
        "  plt.ylabel('True Positive Rate')\n",
        "  plt.title('ROC (Receiver operating characteristic) curve')\n",
        "  plt.legend(loc=\"lower right\")\n",
        "  plt.show()\n",
        "\n",
        "plot_roc(results1)"
      ],
      "execution_count": 13,
      "outputs": [
        {
          "output_type": "display_data",
          "data": {
            "image/png": "[encoded data removed]",
            "text/plain": [
              "<Figure size 432x288 with 1 Axes>"
            ]
          },
          "metadata": {
            "tags": [],
            "needs_background": "light"
          }
        }
      ]
    },
    {
      "cell_type": "markdown",
      "metadata": {
        "id": "1govAHSKna9k"
      },
      "source": [
        "### The ROC curve shows that the model is able to achieve a true positive rate of about 80% before the false positive rate rises above 20%. In a perfect model, the orange curve would be pulled up to the upper left-hand corner. However, this model is significantly better than one with no predictive power, which would correspond to the blue diagonal line."
      ]
    },
    {
      "cell_type": "markdown",
      "metadata": {
        "id": "SIKGPHicDX6k"
      },
      "source": [
        "## Precision-recall curve"
      ]
    },
    {
      "cell_type": "code",
      "metadata": {
        "colab": {
          "base_uri": "https://localhost:8080/",
          "height": 294
        },
        "id": "yUXD6KnK_zqC",
        "outputId": "16763fa5-ec04-49d3-8fa7-1ee9fe1ca7f2"
      },
      "source": [
        "def plot_prec_rec(results):\n",
        "  y_t = results[4]\n",
        "  y_s = results[6][:,1]\n",
        "  precision, recall, thresholds = precision_recall_curve(y_true=y_t, probas_pred=y_s, pos_label=1)\n",
        "  lw = 2\n",
        "  plt.plot(recall, precision, color='darkorange', lw=lw,\n",
        "          label='Average precision recall score: %0.2f' % average_precision_score(y_t, y_s))\n",
        "  plt.title('Precision recall curve')\n",
        "  plt.xlabel('Recall')\n",
        "  plt.ylabel('Precision')\n",
        "  plt.legend()\n",
        "  plt.show()\n",
        "\n",
        "plot_prec_rec(results1)"
      ],
      "execution_count": 14,
      "outputs": [
        {
          "output_type": "display_data",
          "data": {
            "image/png": "[encoded data removed]",
            "text/plain": [
              "<Figure size 432x288 with 1 Axes>"
            ]
          },
          "metadata": {
            "tags": [],
            "needs_background": "light"
          }
        }
      ]
    },
    {
      "cell_type": "markdown",
      "metadata": {
        "id": "JvHD_uSNnuBk"
      },
      "source": [
        "### The precision-recall curve reflects the findings in the ROC curve, showing that the model can attain both relatively high precision and relatively high recall. (I.e., not perfect, but better than totally random.)"
      ]
    },
    {
      "cell_type": "markdown",
      "metadata": {
        "id": "peq7XHkN8ujx"
      },
      "source": [
        "## Confusion Matrix"
      ]
    },
    {
      "cell_type": "code",
      "metadata": {
        "id": "PnOHdV8rhe8a"
      },
      "source": [
        "%%capture\n",
        "from sklearn.metrics import plot_confusion_matrix\n",
        "v = v1\n",
        "c = c1\n",
        "headlines = headlines1\n",
        "y_ = data.is_sarcastic.values\n",
        "results = run_classifier (v, c, headlines, y_)\n",
        "\n",
        "# Plot non-normalized confusion matrix\n",
        "titles_options = [(\"Confusion matrix, without normalization\", None),\n",
        "                  (\"Normalized confusion matrix\", 'true')]\n",
        "for title, normalize in titles_options:\n",
        "    disp = plot_confusion_matrix(c, results[3], results[4],\n",
        "                                 display_labels=['Not Sarcastic','Sarcastic'],\n",
        "                                 cmap=plt.cm.Blues, normalize=normalize)\n",
        "    disp.ax_.set_title(title)\n",
        "    print(title)\n",
        "    print(disp.confusion_matrix)\n",
        "\n",
        "normalized_cm = disp.confusion_matrix"
      ],
      "execution_count": 15,
      "outputs": []
    },
    {
      "cell_type": "code",
      "metadata": {
        "colab": {
          "base_uri": "https://localhost:8080/",
          "height": 310
        },
        "id": "wAfJ23dW_FTs",
        "outputId": "b9689d58-2f68-4b12-d8a5-5494536921d8"
      },
      "source": [
        "import itertools\n",
        "import numpy as np\n",
        "import matplotlib.pyplot as plt\n",
        "\n",
        "def plot_confusion_matrix(cm, title='Confusion matrix', cmap=plt.cm.Oranges, normalize = 'true'):\n",
        "    plt.imshow(cm, interpolation='nearest', cmap=cmap)\n",
        "    plt.title(title)\n",
        "    plt.colorbar()\n",
        "    tick_marks = np.arange(cm.shape[1])\n",
        "    plt.xticks(tick_marks, rotation=45)\n",
        "    ax = plt.gca()\n",
        "    ax.set_xticklabels((ax.get_xticks()%2).astype(str))\n",
        "    plt.yticks(tick_marks)\n",
        "\n",
        "    thresh = cm.max() / 2.\n",
        "    for i, j in itertools.product(range(cm.shape[0]), range(cm.shape[1])):\n",
        "        plt.text(j, i, format(cm[i, j], '.3f'),\n",
        "                 horizontalalignment=\"center\",\n",
        "                 color=\"white\" if cm[i, j] > thresh else \"black\")\n",
        "\n",
        "    plt.tight_layout()\n",
        "    plt.ylabel('True label')\n",
        "    plt.xlabel('Predicted label')\n",
        "\n",
        "cm = normalized_cm\n",
        "np.set_printoptions(precision=1) \n",
        "fig, ax = plt.subplots()\n",
        "plot_confusion_matrix(cm)\n",
        "plt.show()"
      ],
      "execution_count": 128,
      "outputs": [
        {
          "output_type": "display_data",
          "data": {
            "image/png": "[encoded data removed]",
            "text/plain": [
              "<Figure size 432x288 with 2 Axes>"
            ]
          },
          "metadata": {
            "tags": [],
            "needs_background": "light"
          }
        }
      ]
    },
    {
      "cell_type": "markdown",
      "metadata": {
        "id": "3dPDNnoxn-cC"
      },
      "source": [
        "### The confusion mtrix shows a true positive rate of about 75%, a true negative rate of about 82%, a false negative rate of about 25%, and a false positive rate of about 18%. The false negative rate is higher than I would like it to be."
      ]
    },
    {
      "cell_type": "code",
      "metadata": {
        "colab": {
          "base_uri": "https://localhost:8080/"
        },
        "id": "ZBBH7Zb3IJov",
        "outputId": "05580cf8-f97a-458d-88bc-4c6f35c6e107"
      },
      "source": [
        "feature_to_coef = {word: float(\"%.3f\" % coef) for word, coef in zip(v.get_feature_names(), c.coef_[0])}\n",
        "print(\"\\nTop \\'sarcastic\\' features:\")\n",
        "for x in sorted(feature_to_coef.items(), key=lambda x: x[1], reverse=True)[:10]:\n",
        "  print(x)\n",
        "print(\"\\nTop \\'non-sarcastic\\'' features:\")\n",
        "for x in sorted(feature_to_coef.items(), key=lambda x: x[1], reverse=False)[:10]:\n",
        "  print(x)"
      ],
      "execution_count": 16,
      "outputs": [
        {
          "output_type": "stream",
          "text": [
            "\n",
            "Top 'sarcastic' features:\n",
            "('area', 6.775)\n",
            "('man', 6.02)\n",
            "('nation', 5.097)\n",
            "('fuck', 4.844)\n",
            "('report', 4.454)\n",
            "('local', 4.156)\n",
            "('announc', 3.773)\n",
            "('studi', 3.756)\n",
            "('introduc', 3.754)\n",
            "('shit', 3.311)\n",
            "\n",
            "Top 'non-sarcastic'' features:\n",
            "('donald', -4.731)\n",
            "('here', -4.546)\n",
            "('trump', -4.369)\n",
            "('tweet', -3.135)\n",
            "('california', -2.898)\n",
            "('hillari', -2.898)\n",
            "('muslim', -2.703)\n",
            "('queer', -2.612)\n",
            "('tran', -2.539)\n",
            "('transgend', -2.527)\n"
          ],
          "name": "stdout"
        }
      ]
    },
    {
      "cell_type": "markdown",
      "metadata": {
        "id": "3HJxcjXloPDA"
      },
      "source": [
        "### The top 10 sarcastic features include 2 curse words, which makes sense, since these words are much more likely to appear in a humorous setting. The non-sarcastic features have a significant number of proper nouns -- Trump, California, and Hillar(y), for example -- as well as a significant number of references to specific groups of people -- Muslim, Queer, and Transgender. These tend to be more serious topics, and are less likely to appear in humorous settings."
      ]
    },
    {
      "cell_type": "markdown",
      "metadata": {
        "id": "U0ndq6LoFy_o"
      },
      "source": [
        "# Improvements: Grid Search"
      ]
    },
    {
      "cell_type": "markdown",
      "metadata": {
        "id": "nYj0m3s8o3tY"
      },
      "source": [
        "### To search for ways to improve the model, I ran a Grid Search on two different vectorizers, three different classifiers, and several options for parameters corresponding to each of these. The results show the combination of choices that produced the highest accuracy scores."
      ]
    },
    {
      "cell_type": "markdown",
      "metadata": {
        "id": "J2CS9yOnjm-K"
      },
      "source": [
        "### ------------------------------------------------------------------------------\n",
        "### **Warning**: this next cell took my computer 23 minutes to complete. If you would like to skip this cell and just get the output that it returns, I've pasted the output in the cell after this one.\n",
        "### ------------------------------------------------------------------------------\n"
      ]
    },
    {
      "cell_type": "code",
      "metadata": {
        "colab": {
          "base_uri": "https://localhost:8080/"
        },
        "id": "34kW73HZbm0o",
        "outputId": "925197bb-4f96-4ba1-dc7c-c3b6b77b0b37"
      },
      "source": [
        "# pipe = Pipeline([\n",
        "#                  ('vectorizer', PipelineHelper([\n",
        "#                      ('v1', CountVectorizer(ngram_range=(1,2))),\n",
        "#                      ('v2', TfidfVectorizer(ngram_range=(1,2)))\n",
        "#                  ])),\n",
        "#                  ('classifier', PipelineHelper([\n",
        "#                      ('svm', LinearSVC(max_iter=1000)),\n",
        "#                      ('lr', LogisticRegression(max_iter=1000)),\n",
        "#                      ('nb', MultinomialNB())\n",
        "#                  ])),\n",
        "#                 ])\n",
        "\n",
        "# param_grid = {\n",
        "#               'vectorizer__selected_model': pipe.named_steps['vectorizer'].generate({\n",
        "#                   'v1__min_df': [1, 3, 5, 10],\n",
        "#                   'v1__max_df': [0.7, 0.8, 0.9],\n",
        "#                   'v2__min_df': [1, 3, 5, 10],\n",
        "#                   'v2__max_df': [0.7, 0.8, 0.9]\n",
        "#                }),\n",
        "#               'classifier__selected_model': pipe.named_steps['classifier'].generate({\n",
        "#                   'lr__solver': ['lbfgs', 'sag', 'saga'],\n",
        "#                   'svm__C': [0.1, 1.0]\n",
        "#                })\n",
        "#               }\n",
        "\n",
        "\n",
        "# grid = GridSearchCV(pipe, param_grid, cv=5, scoring='accuracy').fit(headlines1, data.is_sarcastic.values)\n",
        "# print(grid.best_params_)\n",
        "# print(grid.best_score_)"
      ],
      "execution_count": 19,
      "outputs": [
        {
          "output_type": "stream",
          "text": [
            "{'classifier__selected_model': ('svm', {'C': 1.0}), 'vectorizer__selected_model': ('v2', {'max_df': 0.7, 'min_df': 1})}\n",
            "0.8043958670574544\n"
          ],
          "name": "stdout"
        }
      ]
    },
    {
      "cell_type": "code",
      "metadata": {
        "id": "ZIzaZxGLjldp"
      },
      "source": [
        "output = \"{'classifier__selected_model': ('svm', {'C': 1.0}), 'vectorizer__selected_model': ('v2', {'max_df': 0.7, 'min_df': 1})}\"\n",
        "acc = 0.8043958670574544"
      ],
      "execution_count": 21,
      "outputs": []
    },
    {
      "cell_type": "markdown",
      "metadata": {
        "id": "ywbZKWRqpRHj"
      },
      "source": [
        "### The results of the Grid Search suggest that we use the LinearSVC classifier and TfidfVectorizer, with the parameters suggested in parentheses in the output."
      ]
    },
    {
      "cell_type": "markdown",
      "metadata": {
        "id": "2OQN77c1JbhC"
      },
      "source": [
        "### Let's try it again using the suggested parameters:"
      ]
    },
    {
      "cell_type": "code",
      "metadata": {
        "colab": {
          "base_uri": "https://localhost:8080/"
        },
        "id": "3Ifn9wTUZ7bs",
        "outputId": "a6748d93-2bdb-4f91-8a4c-67910e8c9281"
      },
      "source": [
        "from sklearn.calibration import CalibratedClassifierCV\n",
        "v = TfidfVectorizer(ngram_range=(1,2), min_df = 1, max_df = 0.7)\n",
        "c = CalibratedClassifierCV(LinearSVC(max_iter=1000, C = 1.0))\n",
        "headlines = headlines1\n",
        "y_ = data.is_sarcastic.values\n",
        "results2 = run_classifier(v, c, headlines, y_)\n",
        "print(classification_report(results2[4],results2[5]))"
      ],
      "execution_count": 22,
      "outputs": [
        {
          "output_type": "stream",
          "text": [
            "              precision    recall  f1-score   support\n",
            "\n",
            "           0       0.80      0.82      0.81      2995\n",
            "           1       0.80      0.78      0.79      2729\n",
            "\n",
            "    accuracy                           0.80      5724\n",
            "   macro avg       0.80      0.80      0.80      5724\n",
            "weighted avg       0.80      0.80      0.80      5724\n",
            "\n"
          ],
          "name": "stdout"
        }
      ]
    },
    {
      "cell_type": "markdown",
      "metadata": {
        "id": "lS1GKscQpcL1"
      },
      "source": [
        "### These suggestions brought accuracy from 79% to 80%, which isn't nothing, but it also isn't a lot. I'm going to try another way to improve the model.\n",
        "\n",
        "### Pre-processing consisted of 5 steps. I'm going to see how the inclusion or exclusion of each of these steps affects the acccuracy of the model."
      ]
    },
    {
      "cell_type": "code",
      "metadata": {
        "colab": {
          "base_uri": "https://localhost:8080/"
        },
        "id": "8U5vg6uo5K07",
        "outputId": "c4d1ebe7-ce7a-4afe-f582-5922baf1ef1d"
      },
      "source": [
        "## Find all possible ways to tokenize the data given the parameters remove_stop, lemm, stem\n",
        "def tweak_tokens(df, remove_stop = False, lemm = False, stem = False):\n",
        "  og_toks = [word_tokenize(headline) for headline in cleaned]\n",
        "  toks = []\n",
        "  if remove_stop == True:\n",
        "    for entry in og_toks:\n",
        "      toks.append([word for word in entry if not word.lower() in en_stopwords])\n",
        "  else:\n",
        "    toks = og_toks\n",
        "  if lemm == True:\n",
        "    toks_copy = toks\n",
        "    toks = [[lemmatizer.lemmatize(word) for word in entry] for entry in toks_copy]\n",
        "  else:\n",
        "    pass\n",
        "  if stem == True:\n",
        "    toks_copy = toks\n",
        "    toks = [[stemmer.stem(word) for word in entry] for entry in toks_copy]\n",
        "  else:\n",
        "    pass\n",
        "  return toks\n",
        "###########\n",
        "## Find all possible lists of tokens given choices to remove stopwords, lemmatize, and stem\n",
        "tf_combos = [list(item) for item in [element for element in itertools.product([True, False],[True, False],[True, False])]]\n",
        "ts = []\n",
        "length = len(tf_combos)\n",
        "pbar = tqdm(total=length)\n",
        "for i in range(length):\n",
        "    t = tweak_tokens(data, tf_combos[i][0], tf_combos[i][1], tf_combos[i][2])\n",
        "    ts.append(t)\n",
        "    pbar.update(1)\n",
        "pbar.close()"
      ],
      "execution_count": 23,
      "outputs": [
        {
          "output_type": "stream",
          "text": [
            "100%|██████████| 8/8 [00:44<00:00,  5.56s/it]\n"
          ],
          "name": "stderr"
        }
      ]
    },
    {
      "cell_type": "code",
      "metadata": {
        "colab": {
          "base_uri": "https://localhost:8080/",
          "height": 329
        },
        "id": "ra0c95BI6A75",
        "outputId": "ff9301c3-ce59-4f83-c161-c8e58d3230ad"
      },
      "source": [
        "##########\n",
        "v = TfidfVectorizer(ngram_range=(1,2))\n",
        "c = CalibratedClassifierCV(LinearSVC(max_iter=1000, C = 1.0))\n",
        "corpii = [[' '.join(headline) for headline in t] for t in ts]\n",
        "corpus_params = [''.join(list(x)) for x in itertools.product([\"remove_stop = \"],[\"True\", \"False\"],[\", lemm = \"],[\"True\", \"False\"],[\", stem = \"],[\"True\", \"False\"])]\n",
        "###########\n",
        "\n",
        "reports = []\n",
        "score_lst = []\n",
        "corp_param_lst = []\n",
        "\n",
        "length = len(corpii)\n",
        "pbar = tqdm(total=length)\n",
        "for k in range(length):\n",
        "  corpus = corpii[k]\n",
        "  results = run_classifier(v, c, corpus, data.is_sarcastic)\n",
        "  rep = classification_report(results[4],results[5])\n",
        "  scores = [float(s) for s in word_tokenize(rep)[25:-1]]\n",
        "  avg_score = sum(scores)/3\n",
        "  score_lst.append(round(avg_score,4))\n",
        "  corp_param_lst.append(corpus_params[k])\n",
        "  reports.append(rep)\n",
        "  pbar.update(1)\n",
        "pbar.close()\n",
        "\n",
        "compare_params = pd.DataFrame({'Average Score': score_lst, 'Tokenization Decisions': corp_param_lst})\n",
        "compare_params = compare_params.sort_values(by=['Average Score'], ascending=False).reset_index(drop=True)\n",
        "print('')\n",
        "compare_params"
      ],
      "execution_count": 51,
      "outputs": [
        {
          "output_type": "stream",
          "text": [
            "100%|██████████| 8/8 [00:18<00:00,  2.33s/it]"
          ],
          "name": "stderr"
        },
        {
          "output_type": "stream",
          "text": [
            "\n"
          ],
          "name": "stdout"
        },
        {
          "output_type": "stream",
          "text": [
            "\n"
          ],
          "name": "stderr"
        },
        {
          "output_type": "execute_result",
          "data": {
            "text/html": [
              "<div>\n",
              "<style scoped>\n",
              "    .dataframe tbody tr th:only-of-type {\n",
              "        vertical-align: middle;\n",
              "    }\n",
              "\n",
              "    .dataframe tbody tr th {\n",
              "        vertical-align: top;\n",
              "    }\n",
              "\n",
              "    .dataframe thead th {\n",
              "        text-align: right;\n",
              "    }\n",
              "</style>\n",
              "<table border=\"1\" class=\"dataframe\">\n",
              "  <thead>\n",
              "    <tr style=\"text-align: right;\">\n",
              "      <th></th>\n",
              "      <th>Average Score</th>\n",
              "      <th>Tokenization Decisions</th>\n",
              "    </tr>\n",
              "  </thead>\n",
              "  <tbody>\n",
              "    <tr>\n",
              "      <th>0</th>\n",
              "      <td>0.85</td>\n",
              "      <td>remove_stop = False, lemm = True, stem = True</td>\n",
              "    </tr>\n",
              "    <tr>\n",
              "      <th>1</th>\n",
              "      <td>0.85</td>\n",
              "      <td>remove_stop = False, lemm = True, stem = False</td>\n",
              "    </tr>\n",
              "    <tr>\n",
              "      <th>2</th>\n",
              "      <td>0.85</td>\n",
              "      <td>remove_stop = False, lemm = False, stem = True</td>\n",
              "    </tr>\n",
              "    <tr>\n",
              "      <th>3</th>\n",
              "      <td>0.85</td>\n",
              "      <td>remove_stop = False, lemm = False, stem = False</td>\n",
              "    </tr>\n",
              "    <tr>\n",
              "      <th>4</th>\n",
              "      <td>0.81</td>\n",
              "      <td>remove_stop = True, lemm = True, stem = False</td>\n",
              "    </tr>\n",
              "    <tr>\n",
              "      <th>5</th>\n",
              "      <td>0.81</td>\n",
              "      <td>remove_stop = True, lemm = False, stem = False</td>\n",
              "    </tr>\n",
              "    <tr>\n",
              "      <th>6</th>\n",
              "      <td>0.80</td>\n",
              "      <td>remove_stop = True, lemm = True, stem = True</td>\n",
              "    </tr>\n",
              "    <tr>\n",
              "      <th>7</th>\n",
              "      <td>0.80</td>\n",
              "      <td>remove_stop = True, lemm = False, stem = True</td>\n",
              "    </tr>\n",
              "  </tbody>\n",
              "</table>\n",
              "</div>"
            ],
            "text/plain": [
              "   Average Score                           Tokenization Decisions\n",
              "0           0.85    remove_stop = False, lemm = True, stem = True\n",
              "1           0.85   remove_stop = False, lemm = True, stem = False\n",
              "2           0.85   remove_stop = False, lemm = False, stem = True\n",
              "3           0.85  remove_stop = False, lemm = False, stem = False\n",
              "4           0.81    remove_stop = True, lemm = True, stem = False\n",
              "5           0.81   remove_stop = True, lemm = False, stem = False\n",
              "6           0.80     remove_stop = True, lemm = True, stem = True\n",
              "7           0.80    remove_stop = True, lemm = False, stem = True"
            ]
          },
          "metadata": {
            "tags": []
          },
          "execution_count": 51
        }
      ]
    },
    {
      "cell_type": "markdown",
      "metadata": {
        "id": "mrsKURvhr5Kr"
      },
      "source": [
        "### We can see from the results that the following tokenization decisions yield the most accurate results:\n",
        "#### 1. [remove_stop = False, lemm = True, stem = True]\n",
        "#### 2. [remove_stop = False, lemm = True, stem = False]\n",
        "#### 3. [remove_stop = False, lemm = False, stem = True]<br>\n",
        "### This suggests that the classification is most successful when we do not remove stopwords. Maybe the stopwords provide context?<br>\n",
        "### Moreover, choosing either lemmatization, stemming, or both lemmatization and stemming doesn't affect accuracy -- regardless of the choice, the accuracy score stays at about 85%.<br>\n",
        "###What if we try to make the lemmatization more useful? Let's perform lemmatization on the headlines *with* the stopwords still present, and provide the lemmatizer parts of speech for more context, which may improve its effectiveness."
      ]
    },
    {
      "cell_type": "code",
      "metadata": {
        "id": "ohoH_sWgG6G_"
      },
      "source": [
        "def pos_tagger(nltk_tag):\n",
        "    if nltk_tag.startswith('J'):\n",
        "        return wordnet.ADJ\n",
        "    elif nltk_tag.startswith('V'):\n",
        "        return wordnet.VERB\n",
        "    elif nltk_tag.startswith('N'):\n",
        "        return wordnet.NOUN\n",
        "    elif nltk_tag.startswith('R'):\n",
        "        return wordnet.ADV\n",
        "    else:          \n",
        "        return None\n",
        "\n",
        "def lemmatizer_with_pos(sentence):\n",
        "  pos_tagged = nltk.pos_tag(nltk.word_tokenize(sentence))  \n",
        "  wordnet_tagged = list(map(lambda x: (x[0], pos_tagger(x[1])), pos_tagged))\n",
        "  lemmatized_sentence = []\n",
        "  for word, tag in wordnet_tagged:\n",
        "      if tag is None:\n",
        "          lemmatized_sentence.append(word)\n",
        "      else:        \n",
        "          lemmatized_sentence.append(lemmatizer.lemmatize(word, tag))\n",
        "  lemmatized_sentence = \" \".join(lemmatized_sentence)\n",
        "  return lemmatized_sentence\n",
        "\n",
        "\n",
        "headlines2 = []\n",
        "for i in range(len(cleaned)):\n",
        "    s = lemmatizer_with_pos(cleaned[i])\n",
        "    headlines2.append(s)"
      ],
      "execution_count": 24,
      "outputs": []
    },
    {
      "cell_type": "code",
      "metadata": {
        "colab": {
          "base_uri": "https://localhost:8080/"
        },
        "id": "kxwRJeUPdpWo",
        "outputId": "7723f01e-e576-4da3-b79b-5b1d49d87aaf"
      },
      "source": [
        "print(headlines1[8])\n",
        "print(headlines2[8])"
      ],
      "execution_count": 25,
      "outputs": [
        {
          "output_type": "stream",
          "text": [
            "shadow govern get larg meet marriott confer room b\n",
            "shadow government get too large to meet in marriott conference room b\n"
          ],
          "name": "stdout"
        }
      ]
    },
    {
      "cell_type": "markdown",
      "metadata": {
        "id": "DIGrhCIqqclP"
      },
      "source": [
        "### The two lines above show the same headline, the first with the original pre-processing method and the second with the new pre-processing method. One thing I notice is that the first method converted the words \"government\" and \"conference\" to shorter words that have different meanings, which isn't desirable."
      ]
    },
    {
      "cell_type": "code",
      "metadata": {
        "colab": {
          "base_uri": "https://localhost:8080/"
        },
        "id": "uDTBm06u_0sa",
        "outputId": "391ebec7-9b06-4b40-ff6b-06f6037d4408"
      },
      "source": [
        "# Test out the classifier using GridSearch suggestions + new corpus\n",
        "##########\n",
        "v = TfidfVectorizer(ngram_range=(1,2), min_df = 1, max_df = 0.7)\n",
        "c = CalibratedClassifierCV(LinearSVC(max_iter=1000, C = 1.0))\n",
        "headlines = headlines2\n",
        "y_ = data.is_sarcastic.values\n",
        "###########\n",
        "results2 = run_classifier(v, c, headlines2, y_)\n",
        "print(classification_report(results2[4],results2[5]))"
      ],
      "execution_count": 26,
      "outputs": [
        {
          "output_type": "stream",
          "text": [
            "              precision    recall  f1-score   support\n",
            "\n",
            "           0       0.86      0.85      0.86      2995\n",
            "           1       0.84      0.85      0.85      2729\n",
            "\n",
            "    accuracy                           0.85      5724\n",
            "   macro avg       0.85      0.85      0.85      5724\n",
            "weighted avg       0.85      0.85      0.85      5724\n",
            "\n"
          ],
          "name": "stdout"
        }
      ]
    },
    {
      "cell_type": "markdown",
      "metadata": {
        "id": "2gwkfU-aqury"
      },
      "source": [
        "### Accuracy remains at 85%. So while we can conclude that the inclusion of stopwords did significantly improve accuracy (from 80% to 85%), the modified lemmatizer didn't have any substantial effect."
      ]
    },
    {
      "cell_type": "code",
      "metadata": {
        "id": "uYT52TiFe_8b"
      },
      "source": [
        "%%capture\n",
        "from sklearn.metrics import plot_confusion_matrix\n",
        "\n",
        "\n",
        "results = results2\n",
        "\n",
        "# Plot non-normalized confusion matrix\n",
        "titles_options = [(\"Confusion matrix, without normalization\", None),\n",
        "                  (\"Normalized confusion matrix\", 'true')]\n",
        "for title, normalize in titles_options:\n",
        "    disp = plot_confusion_matrix(c, results[3], results[4],\n",
        "                                 display_labels=['Not Sarcastic','Sarcastic'],\n",
        "                                 cmap=plt.cm.Blues, normalize=normalize)\n",
        "    disp.ax_.set_title(title)\n",
        "    print(title)\n",
        "    print(disp.confusion_matrix)\n",
        "\n",
        "normalized_cm = disp.confusion_matrix"
      ],
      "execution_count": 27,
      "outputs": []
    },
    {
      "cell_type": "code",
      "metadata": {
        "colab": {
          "base_uri": "https://localhost:8080/",
          "height": 310
        },
        "id": "riOGgb1Lh60S",
        "outputId": "2dfdc7f6-7fd5-4e7e-9347-6e83d512c837"
      },
      "source": [
        "def plot_confusion_matrix(cm, title='Confusion matrix', cmap=plt.cm.Oranges, normalize = 'true'):\n",
        "    plt.imshow(cm, interpolation='nearest', cmap=cmap)\n",
        "    plt.title(title)\n",
        "    plt.colorbar()\n",
        "    tick_marks = np.arange(cm.shape[1])\n",
        "    plt.xticks(tick_marks, rotation=45)\n",
        "    ax = plt.gca()\n",
        "    ax.set_xticklabels((ax.get_xticks()%2).astype(str))\n",
        "    plt.yticks(tick_marks)\n",
        "\n",
        "    thresh = cm.max() / 2.\n",
        "    for i, j in itertools.product(range(cm.shape[0]), range(cm.shape[1])):\n",
        "        plt.text(j, i, format(cm[i, j], '.3f'),\n",
        "                 horizontalalignment=\"center\",\n",
        "                 color=\"white\" if cm[i, j] > thresh else \"black\")\n",
        "\n",
        "    plt.tight_layout()\n",
        "    plt.ylabel('True label')\n",
        "    plt.xlabel('Predicted label')\n",
        "\n",
        "cm = normalized_cm\n",
        "np.set_printoptions(precision=1) \n",
        "fig, ax = plt.subplots()\n",
        "plot_confusion_matrix(cm)\n",
        "plt.show()"
      ],
      "execution_count": 39,
      "outputs": [
        {
          "output_type": "display_data",
          "data": {
            "image/png": "[encoded data removed]",
            "text/plain": [
              "<Figure size 432x288 with 2 Axes>"
            ]
          },
          "metadata": {
            "tags": [],
            "needs_background": "light"
          }
        }
      ]
    },
    {
      "cell_type": "markdown",
      "metadata": {
        "id": "R33gVP_9rOaj"
      },
      "source": [
        "### True positive and True negative rates are 85.5% and 84.9%, rspectively. False positive and false negative rates are both around 15%. Remember that previously, the false negative rate was around 25%, so this is a significant improvement."
      ]
    },
    {
      "cell_type": "code",
      "metadata": {
        "colab": {
          "base_uri": "https://localhost:8080/",
          "height": 404
        },
        "id": "si0GoDCitQEt",
        "outputId": "2e5d6a1a-026d-4647-e39c-7faa58341096"
      },
      "source": [
        "# Let's compare this to the old results.\n",
        "y_t_1, y_s_1 = results1[4], results1[6][:,1]\n",
        "fpr1, tpr1, thresholds1 = roc_curve(y_true = y_t_1, y_score = y_s_1, pos_label=1)\n",
        "\n",
        "y_t_2, y_s_2 = results2[4], results2[6][:,1]\n",
        "fpr2, tpr2, thresholds2 = roc_curve(y_true = y_t_2, y_score = y_s_2, pos_label=1)\n",
        "\n",
        "roc_auc_1, roc_auc_2 = auc(fpr1, tpr1), auc(fpr2, tpr2)\n",
        "lw=2\n",
        "plt.figure(figsize=(10,6))\n",
        "plt.plot(fpr1, tpr1, color='red', lw=2, label='old ROC curve (area = %0.2f)' % roc_auc_1)\n",
        "plt.plot(fpr2, tpr2, color='green', lw=2, label='new ROC curve (area = %0.2f)' % roc_auc_2)\n",
        "plt.plot([0, 1], [0, 1], color='navy', lw=lw, linestyle='--')\n",
        "plt.xlim([0.0, 1.0])\n",
        "plt.ylim([0.0, 1.05])\n",
        "plt.xlabel('False Positive Rate')\n",
        "plt.ylabel('True Positive Rate')\n",
        "plt.title('ROC (Receiver operating characteristic) curve')\n",
        "plt.legend(loc=\"lower right\")\n",
        "plt.show()"
      ],
      "execution_count": 29,
      "outputs": [
        {
          "output_type": "display_data",
          "data": {
            "image/png": "[encoded data removed]",
            "text/plain": [
              "<Figure size 720x432 with 1 Axes>"
            ]
          },
          "metadata": {
            "tags": [],
            "needs_background": "light"
          }
        }
      ]
    },
    {
      "cell_type": "markdown",
      "metadata": {
        "id": "Kh9DG9wFrnKV"
      },
      "source": [
        "The modified model's ROC curve (in green) is getting closer to that upper left-hand corner, which implies more accuracy. The area under the curve also increased from 0.87 to 0.93."
      ]
    },
    {
      "cell_type": "code",
      "metadata": {
        "colab": {
          "base_uri": "https://localhost:8080/",
          "height": 404
        },
        "id": "csRVjISsuAm6",
        "outputId": "90e150fc-449e-46a6-89f2-0970bf634358"
      },
      "source": [
        "y_t_1_, y_s_1_ = results1[4], results1[6][:,1]\n",
        "precision1, recall1, thresholds1 = precision_recall_curve(y_true = y_t_1_, probas_pred=y_s_1_, pos_label=1)\n",
        "y_t_2_, y_s_2_ = results2[4], results2[6][:,1]\n",
        "precision2, recall2, thresholds2 = precision_recall_curve(y_true = y_t_2_, probas_pred=y_s_2_, pos_label=1)\n",
        "\n",
        "plt.figure(figsize=(10,6))\n",
        "plt.plot(recall1, precision1, color='red', lw=2,\n",
        "        label='Average precision recall score: %0.2f' % average_precision_score(y_t_1, y_s_1_))\n",
        "plt.plot(recall2, precision2, color='green', lw=2,\n",
        "        label='Average precision recall score: %0.2f' % average_precision_score(y_t_2, y_s_2_))\n",
        "plt.title('Precision recall curve')\n",
        "plt.xlabel('Recall')\n",
        "plt.ylabel('Precision')\n",
        "plt.legend()\n",
        "plt.show()\n"
      ],
      "execution_count": 30,
      "outputs": [
        {
          "output_type": "display_data",
          "data": {
            "image/png": "[encoded data removed]",
            "text/plain": [
              "<Figure size 720x432 with 1 Axes>"
            ]
          },
          "metadata": {
            "tags": [],
            "needs_background": "light"
          }
        }
      ]
    },
    {
      "cell_type": "markdown",
      "metadata": {
        "id": "ZzWL6ZWOrzKZ"
      },
      "source": [
        "### The new model's precision-recall curve shows similar improvement, with the new model's curve (in green) getting closer to the upper right-hand corner. The average precision recall score also increased from 0.86 to 0.92."
      ]
    },
    {
      "cell_type": "markdown",
      "metadata": {
        "id": "Cv3p0zVZsAEa"
      },
      "source": [
        "### Let's see the features of the new model."
      ]
    },
    {
      "cell_type": "code",
      "metadata": {
        "id": "N6h28fHJlOic"
      },
      "source": [
        "%%capture\n",
        "from sklearn.calibration import CalibratedClassifierCV\n",
        "v3 = TfidfVectorizer(ngram_range=(1,2), min_df = 1, max_df = 0.7)\n",
        "c3 = CalibratedClassifierCV(LinearSVC(max_iter=1000, C = 1.0))\n",
        "y = data.is_sarcastic.values\n",
        "\n",
        "v3 = TfidfVectorizer(ngram_range=(1,2))\n",
        "c3 = CalibratedClassifierCV(LinearSVC(max_iter=1000, C = 1.0))\n",
        "y_ = data.is_sarcastic.values\n",
        "\n",
        "results_3 =   run_classifier(v3, c3, headlines2, y)\n",
        "clf = results_3[0]\n",
        "y_pred_test = results_3[5]\n",
        "data_test = results_3[8]\n",
        "cs = [c_1, c_2, c_3, c_4, c_5] = clf.calibrated_classifiers_"
      ],
      "execution_count": 35,
      "outputs": []
    },
    {
      "cell_type": "code",
      "metadata": {
        "colab": {
          "base_uri": "https://localhost:8080/"
        },
        "id": "HNdv-VJFBPfq",
        "outputId": "a148a988-c813-4319-88c2-21973a409236"
      },
      "source": [
        "coefs_ = []\n",
        "for c_ in cs:\n",
        "  c = c_.base_estimator\n",
        "  word_coef_dict = dict({word: float(\"%.3f\" % coef) for word, coef in zip(v3.get_feature_names(), c.coef_[0])})\n",
        "  coef_ = list(word_coef_dict.values())\n",
        "  coefs_.append(coef_)\n",
        "\n",
        "avg_coefs = []\n",
        "for i in range((len(coefs_[0]))):\n",
        "  avg_coef = sum([coefs_[0][i], coefs_[1][i], coefs_[2][i], coefs_[3][i], coefs_[4][i]])/5\n",
        "  avg_coefs.append(avg_coef)\n",
        "new_dict = dict({word: float(\"%.3f\" % coef) for word, coef in zip(v3.get_feature_names(), avg_coefs)})\n",
        "\n",
        "print('new \\'sarcastic\\' features):')\n",
        "ns = sorted(new_dict.items(), key=lambda x: x[1], reverse=True)[:10]\n",
        "print([k for (k,v) in ns])\n",
        "print('old \\'sarcastic\\' features):')\n",
        "os = sorted(feature_to_coef.items(), key=lambda x: x[1], reverse=True)[:10]\n",
        "print([k for (k,v) in os])\n",
        "print('new \\'non-sarcastic\\' features):')\n",
        "nns = sorted(new_dict.items(), key=lambda x: x[1], reverse=False)[:10]\n",
        "print([k for (k,v) in nns])\n",
        "print('old \\'non-sarcastic\\' features):')\n",
        "ons = sorted(feature_to_coef.items(), key=lambda x: x[1], reverse=False)[:10]\n",
        "print([k for (k,v) in ons])"
      ],
      "execution_count": 36,
      "outputs": [
        {
          "output_type": "stream",
          "text": [
            "new 'sarcastic' features):\n",
            "['nation', 'area', 'report', 'man', 'fuck', 'only', 'local', 'of', 'by', 'announces']\n",
            "old 'sarcastic' features):\n",
            "['area', 'man', 'nation', 'fuck', 'report', 'local', 'announc', 'studi', 'introduc', 'shit']\n",
            "new 'non-sarcastic' features):\n",
            "['the', 'and', 'be', 'your', 'trump', 'an', 'why', 'my', 'how', 'this']\n",
            "old 'non-sarcastic' features):\n",
            "['donald', 'here', 'trump', 'tweet', 'california', 'hillari', 'muslim', 'queer', 'tran', 'transgend']\n"
          ],
          "name": "stdout"
        }
      ]
    },
    {
      "cell_type": "markdown",
      "metadata": {
        "id": "mD92u9C_sD6J"
      },
      "source": [
        "### The new sarcastic features are similar to the ones in the original model -- the words \"nation\", \"area\", report\", \"man\", \"fuck\", \"local\", and \"announc(e)\" appear in both lists.<br>\n",
        "### The new non-sarcastic features, however, have none of the words from the original list, with the exception of the word 'trump'. Outside of 'trump', they are all stopwords.<br><br>\n",
        "### Just as a reminder..."
      ]
    },
    {
      "cell_type": "code",
      "metadata": {
        "colab": {
          "base_uri": "https://localhost:8080/",
          "height": 458
        },
        "id": "odDgFuQipJz0",
        "outputId": "b0c0e34a-e03a-49cb-8b17-edd148b0c943"
      },
      "source": [
        "d_sar = data[data['label']=='sarcastic']\n",
        "d_nsar = data[data['label']=='not sarcastic']\n",
        "\n",
        "plt.figure(figsize=(12,7))\n",
        "plt.hist(d_sar['length'], bins=50, alpha=0.5, label=\"sarcastic\", range=(0,150),density = True)\n",
        "plt.hist(d_nsar['length'], bins=50, alpha=0.5, label=\"not sarcastic\", range = (0,150), density = True)\n",
        "plt.xlabel(\"Number of Characters\")\n",
        "plt.ylabel('Frequency')\n",
        "plt.legend(loc='upper right')\n",
        "plt.title(\"Frequency of Headline Lengths: Sarcastic vs. Non-Saracastic\")\n",
        "plt.show()"
      ],
      "execution_count": 37,
      "outputs": [
        {
          "output_type": "display_data",
          "data": {
            "image/png": "[encoded data removed]",
            "text/plain": [
              "<Figure size 864x504 with 1 Axes>"
            ]
          },
          "metadata": {
            "tags": [],
            "needs_background": "light"
          }
        }
      ]
    },
    {
      "cell_type": "markdown",
      "metadata": {
        "id": "Bf1GfY01smy3"
      },
      "source": [
        "### ... The sarcastic and non-sarcastic headlines in the raw data are distributed differently. Additionally, all sarcastic headlines are pulled from 'The Onion', where as all non-sarcastic headlines are pulled from 'Huffington Post'. In other words, it may be more accurate to say that this model is trained to detect which of the two publications a headline comes from. It's entirely possible that the writers at Huffington Post have a fundamentally different way of structuring sentences that has nothing to do with sarcasm/non-sarcasm."
      ]
    },
    {
      "cell_type": "markdown",
      "metadata": {
        "id": "l16jWFlbuw4i"
      },
      "source": [
        "### Lastly, just for the puropses of speculation, here is a sample of headlines from the dataset, along with their predicted labels and actual labels."
      ]
    },
    {
      "cell_type": "code",
      "metadata": {
        "colab": {
          "base_uri": "https://localhost:8080/"
        },
        "id": "9JMWcY71BrvB",
        "outputId": "1dd0268f-fd74-40cc-99da-f7a7914670c0"
      },
      "source": [
        "import random\n",
        "\n",
        "pred = list(y_pred_test)\n",
        "data_test['predictions'] = pred\n",
        "\n",
        "count = 0\n",
        "false_positive = 0\n",
        "false_negative = 0\n",
        "incorrect = []\n",
        "correct = []\n",
        "for [predicted, true, sentence] in zip(data_test.predictions, data_test.is_sarcastic, data_test.headline):\n",
        "  if predicted == true:\n",
        "    count += 1\n",
        "    if predicted == 1:\n",
        "      correct.append([sentence, 'predicted:  sarcastic', 'actual:     sarcastic'])\n",
        "    else:\n",
        "      correct.append([sentence, 'predicted:  not sarcastic', 'actual:     not sarcastic']) \n",
        "  else:\n",
        "    if predicted == 1:\n",
        "      incorrect.append([sentence, 'predicted:  sarcastic', 'actual:     not sarcastic'])\n",
        "      false_positive += 1\n",
        "    else:\n",
        "      incorrect.append([sentence, 'predicted:  not sarcastic', 'actual:     sarcastic']) \n",
        "      false_negative += 1\n",
        "\n",
        "\n",
        "randomlist_i = random.sample(range(len(incorrect)), 5)\n",
        "randomlist_c = random.sample(range(len(correct)), 5)\n",
        "\n",
        "print('Incorrect:')\n",
        "for i in randomlist_i:\n",
        "  entry = incorrect[i]\n",
        "  print(entry[1])\n",
        "  print(entry[2])\n",
        "  print(\"\\'\" + str(entry[0]) + \"\\'\")\n",
        "  print('')\n",
        "\n",
        "print('Correct:')\n",
        "for c in randomlist_c:\n",
        "  entry = correct[c]\n",
        "  print(entry[1])\n",
        "  print(entry[2])\n",
        "  print(\"\\'\" + str(entry[0]) + \"\\'\")\n",
        "  print('')"
      ],
      "execution_count": 38,
      "outputs": [
        {
          "output_type": "stream",
          "text": [
            "Incorrect:\n",
            "predicted:  sarcastic\n",
            "actual:     not sarcastic\n",
            "'equifax says another 2.4 million customers hit by data breach in 2017'\n",
            "\n",
            "predicted:  not sarcastic\n",
            "actual:     sarcastic\n",
            "'doctors: cancer patients who watched the onion's amazon pilot daily showed signs of remission'\n",
            "\n",
            "predicted:  sarcastic\n",
            "actual:     not sarcastic\n",
            "'4 high-level languages for front-end developers'\n",
            "\n",
            "predicted:  sarcastic\n",
            "actual:     not sarcastic\n",
            "'jury awards ex-employee of roscoe's chicken n' waffles $1.6m in race discrimination suit'\n",
            "\n",
            "predicted:  not sarcastic\n",
            "actual:     sarcastic\n",
            "'vp pick energizes republican basest'\n",
            "\n",
            "Correct:\n",
            "predicted:  not sarcastic\n",
            "actual:     not sarcastic\n",
            "'trump's 7 techniques to control the media'\n",
            "\n",
            "predicted:  not sarcastic\n",
            "actual:     not sarcastic\n",
            "'how not to defend the humanities'\n",
            "\n",
            "predicted:  not sarcastic\n",
            "actual:     not sarcastic\n",
            "'can we bring a glimmer of hope to syrians?'\n",
            "\n",
            "predicted:  sarcastic\n",
            "actual:     sarcastic\n",
            "'embarrassed alexandria ocasio-cortez can only afford american flag pin with 19 stars'\n",
            "\n",
            "predicted:  not sarcastic\n",
            "actual:     not sarcastic\n",
            "'the gun industry's next big thing is neither big nor new'\n",
            "\n"
          ],
          "name": "stdout"
        },
        {
          "output_type": "stream",
          "text": [
            "/usr/local/lib/python3.7/dist-packages/ipykernel_launcher.py:4: SettingWithCopyWarning: \n",
            "A value is trying to be set on a copy of a slice from a DataFrame.\n",
            "Try using .loc[row_indexer,col_indexer] = value instead\n",
            "\n",
            "See the caveats in the documentation: https://pandas.pydata.org/pandas-docs/stable/user_guide/indexing.html#returning-a-view-versus-a-copy\n",
            "  after removing the cwd from sys.path.\n"
          ],
          "name": "stderr"
        }
      ]
    },
    {
      "cell_type": "markdown",
      "metadata": {
        "id": "JFnVvftWlK45"
      },
      "source": [
        "# -- END --"
      ]
    }
  ]
}